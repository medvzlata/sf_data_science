{
 "cells": [
  {
   "cell_type": "code",
   "execution_count": 3,
   "metadata": {},
   "outputs": [
    {
     "name": "stdout",
     "output_type": "stream",
     "text": [
      "            date      country  confirmed  deaths  recovered  active  \\\n",
      "11337 2020-02-24  Afghanistan        1.0     0.0        0.0     1.0   \n",
      "11570 2020-02-25  Afghanistan        1.0     0.0        0.0     1.0   \n",
      "11807 2020-02-26  Afghanistan        1.0     0.0        0.0     1.0   \n",
      "12051 2020-02-27  Afghanistan        1.0     0.0        0.0     1.0   \n",
      "12299 2020-02-28  Afghanistan        1.0     0.0        0.0     1.0   \n",
      "\n",
      "       daily_confirmed  daily_deaths  daily_recovered  \n",
      "11337              NaN           NaN              NaN  \n",
      "11570              0.0           0.0              0.0  \n",
      "11807              0.0           0.0              0.0  \n",
      "12051              0.0           0.0              0.0  \n",
      "12299              0.0           0.0              0.0  \n",
      "2020-01-22 00:00:00 2021-05-29 00:00:00\n",
      "2020-12-02 00:00:00 2021-09-06 00:00:00\n",
      "<class 'pandas.core.frame.DataFrame'>\n",
      "Int64Index: 86785 entries, 0 to 86784\n",
      "Data columns (total 16 columns):\n",
      " #   Column                               Non-Null Count  Dtype         \n",
      "---  ------                               --------------  -----         \n",
      " 0   date                                 86785 non-null  datetime64[ns]\n",
      " 1   country                              86785 non-null  object        \n",
      " 2   confirmed                            86785 non-null  float64       \n",
      " 3   deaths                               86785 non-null  float64       \n",
      " 4   recovered                            86785 non-null  float64       \n",
      " 5   active                               86785 non-null  float64       \n",
      " 6   daily_confirmed                      86564 non-null  float64       \n",
      " 7   daily_deaths                         86564 non-null  float64       \n",
      " 8   daily_recovered                      86564 non-null  float64       \n",
      " 9   total_vaccinations                   10629 non-null  float64       \n",
      " 10  people_vaccinated                    10007 non-null  float64       \n",
      " 11  people_vaccinated_per_hundred        10007 non-null  float64       \n",
      " 12  people_fully_vaccinated              7695 non-null   float64       \n",
      " 13  people_fully_vaccinated_per_hundred  7695 non-null   float64       \n",
      " 14  daily_vaccinations                   18264 non-null  float64       \n",
      " 15  vaccines                             18451 non-null  object        \n",
      "dtypes: datetime64[ns](1), float64(13), object(2)\n",
      "memory usage: 11.3+ MB\n",
      "None\n",
      "Число строк:  86785\n",
      "Число столбцов:  16\n",
      "7.19\n",
      "67.06\n"
     ]
    }
   ],
   "source": [
    "import pandas as pd\n",
    "\n",
    "covid_data = pd.read_csv('covid_data.csv')\n",
    "#print(covid_data.head())\n",
    "\n",
    "vaccinations_data = pd.read_csv('country_vaccinations.csv')\n",
    "vaccinations_data = vaccinations_data[\n",
    "    ['country', 'date', 'total_vaccinations', \n",
    "     'people_vaccinated', 'people_vaccinated_per_hundred',\n",
    "     'people_fully_vaccinated', 'people_fully_vaccinated_per_hundred',\n",
    "     'daily_vaccinations', 'vaccines']\n",
    "]\n",
    "#print(vaccinations_data.head())\n",
    "\n",
    "#Группируем таблицу по дате и названию страны и рассчитываем суммарные показатели по всем регионам. Тем самым переходим от данных по регионам к данным по странам:\n",
    "covid_data = covid_data.groupby(\n",
    "    ['date', 'country'], \n",
    "    as_index=False\n",
    ")[['confirmed', 'deaths', 'recovered']].sum()\n",
    "\n",
    "#Преобразуем даты в формат datetime с помощью функции pd.to_datetime():\n",
    "covid_data['date'] = pd.to_datetime(covid_data['date'])\n",
    "\n",
    "#Создадим признак больных на данный момент (active). Для этого вычтем из общего числа зафиксированных случаев число смертей и число выздоровевших пациентов:\n",
    "covid_data['active'] = covid_data['confirmed'] - covid_data['deaths'] - covid_data['recovered']\n",
    "\n",
    "#Создадим признак ежедневного прироста числа заболевших, умерших и выздоровевших людей.\n",
    "# Для этого отсортируем данные по названиям стран, а затем по датам. После этого произведём группировку по странам и\n",
    "# рассчитаем разницу между «вчера и сегодня» с помощью метода diff():\n",
    "covid_data = covid_data.sort_values(by=['country', 'date'])\n",
    "covid_data['daily_confirmed'] = covid_data.groupby('country')['confirmed'].diff()\n",
    "covid_data['daily_deaths'] = covid_data.groupby('country')['deaths'].diff()\n",
    "covid_data['daily_recovered'] = covid_data.groupby('country')['recovered'].diff()\n",
    "print(covid_data.head())\n",
    "\n",
    "#В таблице vaccinations_data достаточно будет преобразовать столбцы в формат datetime:\n",
    "vaccinations_data['date'] = pd.to_datetime(vaccinations_data['date'])\n",
    "\n",
    "\n",
    "print(min(covid_data['date']), max(covid_data['date']))\n",
    "print(min(vaccinations_data['date']), max(vaccinations_data['date']))\n",
    "\n",
    "#С помощью метода merge() объедините таблицы covid_data и vaccinations_data по столбцам date и country.\n",
    "# Тип объединения выставьте так, чтобы в результирующую таблицу попали только наблюдения за период,\n",
    "# вычисленный в задании 3.1. То есть в результирующую таблицу должны попасть все записи из таблицы covid_data \n",
    "# и из её пересечения с vaccinations_data, но не более. Результат объединения занесите в переменную covid_df.\n",
    "\n",
    "covid_df = covid_data.merge(\n",
    "    vaccinations_data, \n",
    "    on = ['date', 'country'],\n",
    "    how='left')\n",
    "print(covid_df.info())\n",
    "print('Число строк: ', covid_df.shape[0])\n",
    "print('Число столбцов: ', covid_df.shape[1])\n",
    "\n",
    "#создайте признаки death_rate — общий процент смертей среди зафиксированных случаев (летальность) \n",
    "# и recover_rate — общий процент случаев выздоровления. Данные характеристики рассчитайте как отношение числа смертей (deaths) \n",
    "# и числа выздоровлений (recovered) к числу зафиксированных случаев (confirmed) и умножьте результаты на 100%.\n",
    "covid_df['death_rate'] = covid_df['deaths'] / covid_df['confirmed'] *100\n",
    "covid_df['recover_rate'] = covid_df['recovered'] / covid_df['confirmed'] *100\n",
    "\n",
    "#максимальная летальность в США (United States)\n",
    "print(round(covid_df[covid_df['country'] == 'United States']['death_rate'].max(), 2))\n",
    "#Чему равен средний процент выздоровевших в России (Russia)?\n",
    "print(round(covid_df[covid_df['country'] == 'Russia']['recover_rate'].mean(), 2))\n"
   ]
  },
  {
   "cell_type": "code",
   "execution_count": 4,
   "metadata": {},
   "outputs": [],
   "source": [
    "import matplotlib.pyplot as plt\n",
    "%matplotlib inline"
   ]
  },
  {
   "cell_type": "code",
   "execution_count": 5,
   "metadata": {},
   "outputs": [
    {
     "data": {
      "image/png": "[encoded data removed]",
      "text/plain": [
       "<Figure size 576x288 with 1 Axes>"
      ]
     },
     "metadata": {
      "needs_background": "light"
     },
     "output_type": "display_data"
    }
   ],
   "source": [
    "us_data = covid_df[covid_df['country'] == 'United States']\n",
    "\n",
    "fig = plt.figure(figsize=(8, 4))\n",
    "axes = fig.add_axes([0, 0, 1, 1])\n",
    "axes.scatter(\n",
    "    x=us_data['people_fully_vaccinated'], \n",
    "    y=us_data['daily_confirmed'], \n",
    "    s=100,\n",
    "    marker='^',\n",
    "    c = 'red'\n",
    ");"
   ]
  },
  {
   "cell_type": "code",
   "execution_count": null,
   "metadata": {},
   "outputs": [],
   "source": []
  }
 ],
 "metadata": {
  "kernelspec": {
   "display_name": "Python 3",
   "language": "python",
   "name": "python3"
  },
  "language_info": {
   "codemirror_mode": {
    "name": "ipython",
    "version": 3
   },
   "file_extension": ".py",
   "mimetype": "text/x-python",
   "name": "python",
   "nbconvert_exporter": "python",
   "pygments_lexer": "ipython3",
   "version": "3.7.6"
  }
 },
 "nbformat": 4,
 "nbformat_minor": 2
}
